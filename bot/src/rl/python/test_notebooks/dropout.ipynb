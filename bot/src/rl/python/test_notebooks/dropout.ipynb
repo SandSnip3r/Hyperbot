{
 "cells": [
  {
   "cell_type": "code",
   "execution_count": 33,
   "metadata": {},
   "outputs": [],
   "source": [
    "from flax import nnx\n",
    "import jax\n",
    "import jax.numpy as jnp"
   ]
  },
  {
   "cell_type": "code",
   "execution_count": 34,
   "metadata": {},
   "outputs": [],
   "source": [
    "class MyModel(nnx.Module):\n",
    "  def __init__(self, inSize: int, outSize: int, dropoutRate: float, rngs: nnx.Rngs):\n",
    "    intermediateSize = 64\n",
    "    key = rngs.params()\n",
    "    self.linear1 = nnx.Linear(inSize, intermediateSize, rngs=rngs)\n",
    "    self.dropout1 = nnx.Dropout(rate=dropoutRate, rngs=rngs)\n",
    "    self.linear2 = nnx.Linear(intermediateSize, outSize, rngs=rngs)\n",
    "\n",
    "  def __call__(self, x, deterministic, rngs):\n",
    "    x = self.linear1(x)\n",
    "    x = jax.nn.relu(x)\n",
    "    x = self.dropout1(x, deterministic=deterministic, rngs=rngs)\n",
    "    x = self.linear2(x)\n",
    "    return x"
   ]
  },
  {
   "cell_type": "code",
   "execution_count": 35,
   "metadata": {},
   "outputs": [],
   "source": [
    "dropoutRate = 0.1\n",
    "# key = jax.random.key(0)\n",
    "# key1, key2 = jax.random.split(key)\n",
    "# rngs = nnx.Rngs(params=key1, dropout=key2)\n",
    "rngs = nnx.Rngs(jax.random.key(0))\n",
    "model = MyModel(10, 5, dropoutRate, rngs)"
   ]
  },
  {
   "cell_type": "code",
   "execution_count": 36,
   "metadata": {},
   "outputs": [
    {
     "name": "stdout",
     "output_type": "stream",
     "text": [
      "[ 0.40495783  0.28237268 -0.63730925  0.52325785 -0.5349195 ]\n",
      "[ 0.3173416   0.26317954 -0.58215386  0.45295987 -0.45487443]\n"
     ]
    }
   ],
   "source": [
    "rngs2 = nnx.Rngs(jax.random.key(1))\n",
    "input = jnp.ones((10,))\n",
    "output = model(input, deterministic=False, rngs=rngs2)\n",
    "print(output)\n",
    "output = model(input, deterministic=True, rngs=rngs2)\n",
    "print(output)"
   ]
  },
  {
   "cell_type": "code",
   "execution_count": 37,
   "metadata": {},
   "outputs": [
    {
     "name": "stdout",
     "output_type": "stream",
     "text": [
      "[ 0.26417822  0.4194631  -0.06500262  0.41393083 -0.65323234]\n",
      "[ 0.3173416   0.26317954 -0.5821538   0.4529599  -0.4548744 ]\n"
     ]
    }
   ],
   "source": [
    "@nnx.jit\n",
    "def jittedModel(x, rngs):\n",
    "  return model(x, deterministic=False, rngs=rngs), model(x, deterministic=True, rngs=rngs)\n",
    "\n",
    "x, y = jittedModel(input, rngs2)\n",
    "print(x)\n",
    "print(y)\n"
   ]
  }
 ],
 "metadata": {
  "kernelspec": {
   "display_name": "venv",
   "language": "python",
   "name": "python3"
  },
  "language_info": {
   "codemirror_mode": {
    "name": "ipython",
    "version": 3
   },
   "file_extension": ".py",
   "mimetype": "text/x-python",
   "name": "python",
   "nbconvert_exporter": "python",
   "pygments_lexer": "ipython3",
   "version": "3.12.3"
  }
 },
 "nbformat": 4,
 "nbformat_minor": 2
}
