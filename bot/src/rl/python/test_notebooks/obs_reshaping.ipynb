{
 "cells": [
  {
   "cell_type": "code",
   "execution_count": 4,
   "metadata": {},
   "outputs": [],
   "source": [
    "import jax\n",
    "import jax.numpy as jnp"
   ]
  },
  {
   "cell_type": "code",
   "execution_count": 7,
   "metadata": {},
   "outputs": [
    {
     "name": "stdout",
     "output_type": "stream",
     "text": [
      "pastObservationStack: (2, 10)\n",
      "pastObservationTimestamps: (2, 1)\n",
      "pastActions: (2, 3)\n",
      "pastMask: (2, 1)\n",
      "concatted: (2, 14)\n"
     ]
    }
   ],
   "source": [
    "# - pastObservationStack:      (stackSize, observationSize)\n",
    "# - pastObservationTimestamps: (stackSize, 1)\n",
    "# - pastActions:               (stackSize, actionSpaceSize)\n",
    "# - pastMask:                  (stackSize, 1)\n",
    "# - currentObservation:        (observationSize)\n",
    "stackSize = 2\n",
    "observationSize = 10\n",
    "actionSpaceSize = 3\n",
    "\n",
    "pastObservationStack = jnp.zeros((stackSize, observationSize))\n",
    "pastObservationTimestamps = jnp.zeros((stackSize, 1))\n",
    "pastActions = jnp.zeros((stackSize, actionSpaceSize))\n",
    "pastMask = jnp.zeros((stackSize, 1))\n",
    "\n",
    "print(f'pastObservationStack: {pastObservationStack.shape}')\n",
    "print(f'pastObservationTimestamps: {pastObservationTimestamps.shape}')\n",
    "print(f'pastActions: {pastActions.shape}')\n",
    "print(f'pastMask: {pastMask.shape}')\n",
    "\n",
    "concatted = jnp.concat([pastObservationStack, pastObservationTimestamps, pastActions], axis=1)\n",
    "print(f'concatted: {concatted.shape}')\n"
   ]
  },
  {
   "cell_type": "code",
   "execution_count": 13,
   "metadata": {},
   "outputs": [
    {
     "name": "stdout",
     "output_type": "stream",
     "text": [
      "[[1 2 1]\n",
      " [2 3 1]\n",
      " [3 4 1]]\n",
      "[[[1. 1. 1. 1.]\n",
      "  [1. 1. 1. 1.]\n",
      "  [1. 1. 1. 1.]]\n",
      "\n",
      " [[1. 1. 1. 1.]\n",
      "  [1. 1. 1. 1.]\n",
      "  [1. 1. 1. 1.]]]\n",
      "[[1. 1. 1. 1.]\n",
      " [1. 1. 1. 1.]\n",
      " [1. 1. 1. 1.]\n",
      " [1. 1. 1. 1.]\n",
      " [1. 1. 1. 1.]\n",
      " [1. 1. 1. 1.]]\n"
     ]
    }
   ],
   "source": [
    "x = jnp.array([[1,2], [2,3], [3,4]])\n",
    "y = jnp.array([[1], [1], [1]])\n",
    "res = jnp.concat([x,y], axis=1)\n",
    "print(res)\n",
    "\n",
    "jnp.concat(res, axis=0)\n",
    "\n",
    "x = jnp.ones((2,3,4))\n",
    "print(x)\n",
    "x = jnp.concat(x, axis=0)\n",
    "print(x)\n"
   ]
  }
 ],
 "metadata": {
  "kernelspec": {
   "display_name": "venv",
   "language": "python",
   "name": "python3"
  },
  "language_info": {
   "codemirror_mode": {
    "name": "ipython",
    "version": 3
   },
   "file_extension": ".py",
   "mimetype": "text/x-python",
   "name": "python",
   "nbconvert_exporter": "python",
   "pygments_lexer": "ipython3",
   "version": "3.12.3"
  }
 },
 "nbformat": 4,
 "nbformat_minor": 2
}
