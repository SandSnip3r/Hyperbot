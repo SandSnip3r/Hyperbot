{
 "cells": [
  {
   "cell_type": "code",
   "execution_count": 11,
   "metadata": {},
   "outputs": [],
   "source": [
    "import jax\n",
    "import jax.numpy as jnp\n",
    "import flax\n",
    "from flax import nnx"
   ]
  },
  {
   "cell_type": "code",
   "execution_count": 12,
   "metadata": {},
   "outputs": [],
   "source": [
    "@nnx.jit\n",
    "def f(x, b, v):\n",
    "  jax.debug.print('Teminal? {}', b)"
   ]
  },
  {
   "cell_type": "code",
   "execution_count": 13,
   "metadata": {},
   "outputs": [
    {
     "name": "stdout",
     "output_type": "stream",
     "text": [
      "Teminal? True\n",
      "Result: None\n"
     ]
    }
   ],
   "source": [
    "x = jnp.array([1.2, 3.4])\n",
    "b = True\n",
    "v = 1.2\n",
    "\n",
    "res = f(x, b, v)\n",
    "print(f'Result: {res}')"
   ]
  }
 ],
 "metadata": {
  "kernelspec": {
   "display_name": "hyperbot",
   "language": "python",
   "name": "python3"
  },
  "language_info": {
   "codemirror_mode": {
    "name": "ipython",
    "version": 3
   },
   "file_extension": ".py",
   "mimetype": "text/x-python",
   "name": "python",
   "nbconvert_exporter": "python",
   "pygments_lexer": "ipython3",
   "version": "3.10.12"
  }
 },
 "nbformat": 4,
 "nbformat_minor": 2
}
