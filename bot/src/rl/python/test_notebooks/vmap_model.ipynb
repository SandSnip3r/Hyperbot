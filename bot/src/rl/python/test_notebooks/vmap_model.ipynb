{
 "cells": [
  {
   "cell_type": "code",
   "execution_count": 2,
   "metadata": {},
   "outputs": [],
   "source": [
    "import jax\n",
    "import jax.numpy as jnp\n",
    "from flax import nnx"
   ]
  },
  {
   "cell_type": "code",
   "execution_count": 3,
   "metadata": {},
   "outputs": [
    {
     "name": "stdout",
     "output_type": "stream",
     "text": [
      "[[-0.86267895]\n",
      " [-0.86267895]\n",
      " [-0.86267895]\n",
      " [-0.86267895]\n",
      " [-0.86267895]\n",
      " [-0.86267895]\n",
      " [-0.86267895]\n",
      " [-0.86267895]\n",
      " [-0.86267895]\n",
      " [-0.86267895]]\n"
     ]
    }
   ],
   "source": [
    "rngs = nnx.Rngs(jax.random.key(0))\n",
    "model = nnx.Linear(10, 1, rngs=rngs)\n",
    "\n",
    "x = jnp.ones((10, 10))\n",
    "y = model(x)\n",
    "print(y)\n",
    "\n"
   ]
  }
 ],
 "metadata": {
  "kernelspec": {
   "display_name": "venv",
   "language": "python",
   "name": "python3"
  },
  "language_info": {
   "codemirror_mode": {
    "name": "ipython",
    "version": 3
   },
   "file_extension": ".py",
   "mimetype": "text/x-python",
   "name": "python",
   "nbconvert_exporter": "python",
   "pygments_lexer": "ipython3",
   "version": "3.12.3"
  }
 },
 "nbformat": 4,
 "nbformat_minor": 2
}
