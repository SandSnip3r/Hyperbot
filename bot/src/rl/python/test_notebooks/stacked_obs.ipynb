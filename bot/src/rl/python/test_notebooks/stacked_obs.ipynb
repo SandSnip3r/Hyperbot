{
 "cells": [
  {
   "cell_type": "code",
   "execution_count": 4,
   "metadata": {},
   "outputs": [],
   "source": [
    "import jax\n",
    "import jax.numpy as jnp\n",
    "from flax import nnx\n",
    "import optax"
   ]
  },
  {
   "cell_type": "code",
   "execution_count": 5,
   "metadata": {},
   "outputs": [],
   "source": [
    "class Model(nnx.Module):\n",
    "  def __init__(self, din, dout, rngs: nnx.Rngs):\n",
    "    self.linear1 = nnx.Linear(din, 64, rngs=rngs)\n",
    "    self.linear2 = nnx.Linear(64, dout, rngs=rngs)\n",
    "\n",
    "  def __call__(self, x):\n",
    "    x = self.linear1(x)\n",
    "    x = nnx.relu(x)\n",
    "    x = self.linear2(x)\n",
    "    return x"
   ]
  },
  {
   "cell_type": "code",
   "execution_count": 6,
   "metadata": {},
   "outputs": [
    {
     "name": "stdout",
     "output_type": "stream",
     "text": [
      "[[-0.6652626  -0.53902525 -0.09297132  0.49937177 -0.6603005   1.0518895\n",
      "  -0.13109544 -0.6628766  -1.1291803  -0.11417593  1.3707572   1.0709394\n",
      "   0.6735817   1.64906     0.34760642 -1.6613114 ]\n",
      " [ 0.99269426 -0.7585932   1.7138944   0.24401504  0.07184923 -0.1491603\n",
      "   0.33781812  0.30689996  0.08213931 -0.40384504  0.03291181  0.40766206\n",
      "  -0.5710783  -0.12206234  0.00263701  0.3509707 ]\n",
      " [ 0.00677812 -1.365413    0.56654704 -0.5230862   0.09809178  0.488294\n",
      "  -0.0625405  -0.6276747   0.7260537   1.1030865  -0.08457478  0.572353\n",
      "   0.46608803  0.6361121   0.9714385  -0.8715981 ]\n",
      " [-1.7621522  -0.19059354  0.29289463 -0.9432181  -0.91601753  0.7529558\n",
      "   0.3522218   1.2541811  -0.38666964  0.7492006   0.7282804   0.17798842\n",
      "  -0.48238662 -1.0095683   0.72713643 -0.8324332 ]]\n"
     ]
    }
   ],
   "source": [
    "observationSize = 168\n",
    "stackSize = 4\n",
    "\n",
    "key = jax.random.key(0)\n",
    "key, subkey = jax.random.split(key)\n",
    "rngs = nnx.Rngs(subkey)\n",
    "model = Model(observationSize, 16, rngs)\n",
    "\n",
    "key, subkey = jax.random.split(key)\n",
    "observationStack = jax.random.normal(subkey, (stackSize, observationSize))\n",
    "\n",
    "denseObservationStack = jax.vmap(model)(observationStack)\n",
    "\n",
    "print(denseObservationStack)\n",
    "\n",
    "\n",
    "\n",
    "\n",
    "\n",
    "\n"
   ]
  }
 ],
 "metadata": {
  "kernelspec": {
   "display_name": "venv",
   "language": "python",
   "name": "python3"
  },
  "language_info": {
   "codemirror_mode": {
    "name": "ipython",
    "version": 3
   },
   "file_extension": ".py",
   "mimetype": "text/x-python",
   "name": "python",
   "nbconvert_exporter": "python",
   "pygments_lexer": "ipython3",
   "version": "3.12.3"
  }
 },
 "nbformat": 4,
 "nbformat_minor": 2
}
