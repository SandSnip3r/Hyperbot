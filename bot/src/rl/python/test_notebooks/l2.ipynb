{
 "cells": [
  {
   "cell_type": "code",
   "execution_count": null,
   "metadata": {
    "vscode": {
     "languageId": "plaintext"
    }
   },
   "outputs": [],
   "source": [
    "from flax import nnx\n",
    "import jax\n",
    "import jax.numpy as jnp\n",
    "import optax"
   ]
  },
  {
   "cell_type": "code",
   "execution_count": null,
   "metadata": {
    "vscode": {
     "languageId": "plaintext"
    }
   },
   "outputs": [],
   "source": [
    "class MyModel(nnx.Module):\n",
    "  def __init__(self, inSize: int, outSize: int, *, rngs: nnx.Rngs):\n",
    "    intermediateSize = 64\n",
    "    key = rngs.params()\n",
    "    self.linear1 = nnx.Linear(inSize, intermediateSize, rngs=rngs)\n",
    "    self.linear2 = nnx.Linear(intermediateSize, outSize, rngs=rngs)\n",
    "\n",
    "  def __call__(self, x):\n",
    "    x = self.linear1(x)\n",
    "    x = jax.nn.relu(x)\n",
    "    x = self.linear2(x)\n",
    "    return x"
   ]
  },
  {
   "cell_type": "code",
   "execution_count": null,
   "metadata": {
    "vscode": {
     "languageId": "plaintext"
    }
   },
   "outputs": [],
   "source": [
    "rngs = nnx.Rngs(jax.random.key(0))\n",
    "model = MyModel(2, 38, rngs=rngs)\n",
    "tx = optax.adam(1e-3)\n",
    "optimizerState = nnx.Optimizer(model, tx)\n",
    "modelGraph, modelWeights = nnx.split(model)\n",
    "del model"
   ]
  },
  {
   "cell_type": "code",
   "execution_count": null,
   "metadata": {
    "vscode": {
     "languageId": "plaintext"
    }
   },
   "outputs": [],
   "source": [
    "def lossFunction(model, x, index, target):\n",
    "  values = model(x)\n",
    "  return jnp.mean((values[index] - target) ** 2)"
   ]
  },
  {
   "cell_type": "code",
   "execution_count": null,
   "metadata": {
    "vscode": {
     "languageId": "plaintext"
    }
   },
   "outputs": [],
   "source": [
    "tmpModel = nnx.merge(modelGraph, modelWeights)\n",
    "input = jnp.array([0.1, -0.1])\n",
    "originalModelOutput = tmpModel(input)\n",
    "print(f'Original model output: {originalModelOutput}')\n",
    "index = 0\n",
    "target = 1.0\n",
    "loss = lossFunction(tmpModel, input, index, target)\n",
    "print(f'Loss: {loss}')\n",
    "del tmpModel"
   ]
  },
  {
   "cell_type": "code",
   "execution_count": null,
   "metadata": {
    "vscode": {
     "languageId": "plaintext"
    }
   },
   "outputs": [],
   "source": [
    "for i in range(100):\n",
    "  tmpModel = nnx.merge(modelGraph, modelWeights)\n",
    "  gradients = nnx.grad(lossFunction)(tmpModel, input, index, target)\n",
    "  optimizerState.update(gradients)\n",
    "  updatedModelOutput = tmpModel(input)\n",
    "  # print(f'Updated model output: {updatedModelOutput}')\n",
    "  newLoss = lossFunction(tmpModel, input, index, target)\n",
    "  print(f'New loss: {newLoss}')\n",
    "  del tmpModel\n",
    "\n",
    "print(f'New model output: {tmpModel(input)}')"
   ]
  }
 ],
 "metadata": {
  "language_info": {
   "name": "python"
  }
 },
 "nbformat": 4,
 "nbformat_minor": 2
}
