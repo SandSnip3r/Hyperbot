{
 "cells": [
  {
   "cell_type": "code",
   "execution_count": 1,
   "id": "eb82b536",
   "metadata": {},
   "outputs": [],
   "source": [
    "import os, sys\n",
    "\n",
    "# locate the rl/python directory from the notebook’s folder\n",
    "root = os.path.abspath(os.path.join(os.getcwd(), '..'))\n",
    "src  = os.path.join(root, 'dqn.py')        # optional sanity check\n",
    "pkg  = os.path.join(root, '..')            # up two levels: bot/src/rl\n",
    "\n",
    "# insert the rl/python folder on the import path\n",
    "sys.path.insert(0, pkg)\n",
    "\n",
    "os.environ['XLA_FLAGS'] = '--xla_dump_to=/tmp/xla_dump'\n",
    "os.environ['JAX_CHECK_TRACER_LEAKS'] = '1'"
   ]
  },
  {
   "cell_type": "code",
   "execution_count": 2,
   "id": "d52aba1c",
   "metadata": {},
   "outputs": [],
   "source": [
    "from flax import nnx\n",
    "import numpy as np\n",
    "import jax\n",
    "import jax.numpy as jnp\n",
    "from jax import profiler\n",
    "from python.dqn import DqnModel, selectAction, jittedTrain, getOptaxAdamWOptimizer\n",
    "from copy import deepcopy"
   ]
  },
  {
   "cell_type": "code",
   "execution_count": 3,
   "id": "19662b07",
   "metadata": {},
   "outputs": [],
   "source": [
    "batchSize = 128\n",
    "observationSize = 168\n",
    "observationStackSize = 64\n",
    "actionSpaceSize = 35\n",
    "dropoutRate = 0.1\n",
    "learningRate = 1e-3\n",
    "\n",
    "rngSeed = 0\n",
    "\n",
    "@nnx.jit\n",
    "def getModel(rngSeed):\n",
    "  nnxRngs = nnx.Rngs(jax.random.key(rngSeed))\n",
    "\n",
    "  return DqnModel(\n",
    "      observationSize=observationSize,\n",
    "      stackSize=observationStackSize,\n",
    "      actionSpaceSize=actionSpaceSize,\n",
    "      dropoutRate=dropoutRate,\n",
    "      rngs=nnxRngs\n",
    "  )\n",
    "\n",
    "model = getModel(rngSeed)\n",
    "targetModel = deepcopy(model)\n",
    "\n",
    "@nnx.jit(static_argnums=(1,))\n",
    "def getOptimizer(model, learningRate):\n",
    "  \"\"\"Create an optimizer for the model.\"\"\"\n",
    "  optTx = getOptaxAdamWOptimizer(learningRate)\n",
    "  optimizerState = nnx.Optimizer(model, optTx)\n",
    "  return optimizerState\n",
    "\n",
    "# optTx = getOptaxAdamWOptimizer(learningRate)\n",
    "# optimizerState = nnx.Optimizer(model, optTx)\n",
    "\n",
    "optimizerState = getOptimizer(model, learningRate)"
   ]
  },
  {
   "cell_type": "code",
   "execution_count": 4,
   "id": "2efcedc2",
   "metadata": {},
   "outputs": [
    {
     "name": "stderr",
     "output_type": "stream",
     "text": [
      "E0601 19:10:10.397407  190570 hlo_lexer.cc:443] Failed to parse int literal: 30212747383567152780632\n"
     ]
    },
    {
     "data": {
      "text/plain": [
       "(Array(0., dtype=float32),\n",
       " Array([[0., 0., 0., ..., 0., 0., 0.],\n",
       "        [0., 0., 0., ..., 0., 0., 0.],\n",
       "        [0., 0., 0., ..., 0., 0., 0.],\n",
       "        ...,\n",
       "        [0., 0., 0., ..., 0., 0., 0.],\n",
       "        [0., 0., 0., ..., 0., 0., 0.],\n",
       "        [0., 0., 0., ..., 0., 0., 0.]], dtype=float32),\n",
       " Array(0., dtype=float32),\n",
       " Array(0., dtype=float32),\n",
       " Array(0., dtype=float32))"
      ]
     },
     "execution_count": 4,
     "metadata": {},
     "output_type": "execute_result"
    }
   ],
   "source": [
    "# Input is:\n",
    "# - pastObservationStack:      (stackSize, observationSize)\n",
    "# - pastObservationTimestamps: (stackSize, 1)\n",
    "# - pastActions:               (stackSize, actionSpaceSize)\n",
    "# - pastMask:                  (stackSize, 1)\n",
    "# - currentObservation:        (observationSize)\n",
    "@nnx.jit(static_argnums=(0,))\n",
    "def createData(rngSeed):\n",
    "  pastObservationStack = jnp.zeros((batchSize, observationStackSize, observationSize))\n",
    "  pastObservationTimestamps = jnp.zeros((batchSize, observationStackSize, 1))\n",
    "  pastActions = jnp.zeros((batchSize, observationStackSize, actionSpaceSize))\n",
    "  pastMask = jnp.zeros((batchSize, observationStackSize, 1))\n",
    "  currentObservation = jnp.zeros((batchSize, observationSize))\n",
    "  actions = jnp.zeros((batchSize, observationStackSize), dtype=np.int32)\n",
    "  isTerminals = jnp.zeros((batchSize,), dtype=np.bool)\n",
    "  rewards = jnp.zeros((batchSize,))\n",
    "  weights = jnp.zeros((batchSize,))\n",
    "\n",
    "  tuple1 = (pastObservationStack, pastObservationTimestamps, pastActions, pastMask, currentObservation)\n",
    "  tuple2 = (pastObservationStack, pastObservationTimestamps, pastActions, pastMask, currentObservation)\n",
    "  return tuple1, tuple2, actions, isTerminals, rewards, weights, jax.random.key(rngSeed)\n",
    "\n",
    "tuple1, tuple2, actions, isTerminals, rewards, weights, rngKey = createData(rngSeed)\n",
    "\n",
    "res = jittedTrain(\n",
    "  model=model,\n",
    "  optimizerState=optimizerState,\n",
    "  targetModel=targetModel,\n",
    "  pastModelInputTuple=tuple1,\n",
    "  selectedActions=actions,\n",
    "  isTerminals=isTerminals,\n",
    "  rewards=rewards,\n",
    "  currentModelInputTuple=tuple2,\n",
    "  weights=weights,\n",
    "  gamma=0.99,\n",
    "  rngKey=rngKey\n",
    ")\n",
    "\n",
    "jax.block_until_ready(res)"
   ]
  },
  {
   "cell_type": "code",
   "execution_count": 5,
   "id": "8018d0a9",
   "metadata": {},
   "outputs": [],
   "source": [
    "@nnx.jit\n",
    "def createData2():\n",
    "  pastObservationStack = jnp.zeros((observationStackSize, observationSize))\n",
    "  pastObservationTimestamps = jnp.zeros((observationStackSize, 1))\n",
    "  pastActions = jnp.zeros((observationStackSize, actionSpaceSize))\n",
    "  pastMask = jnp.zeros((observationStackSize, 1))\n",
    "  currentObservation = jnp.zeros((observationSize,))\n",
    "  actionMask = jnp.zeros((actionSpaceSize,))\n",
    "\n",
    "  return pastObservationStack, pastObservationTimestamps, pastActions, pastMask, currentObservation, actionMask\n",
    "\n",
    "pastObservationStack, pastObservationTimestamps, pastActions, pastMask, currentObservation, actionMask = createData2()\n",
    "\n",
    "# @nnx.jit\n",
    "# def selectAction(model, pastObservationStack, pastObservationTimestamps, pastActions, pastMask, currentObservation, actionMask):\n",
    "#   values = model(pastObservationStack, pastObservationTimestamps, pastActions, pastMask, currentObservation, deterministic=True)\n",
    "#   values += actionMask\n",
    "#   return jnp.argmax(values)\n",
    "\n",
    "selectAction = selectAction(model, pastObservationStack, pastObservationTimestamps, pastActions, pastMask, currentObservation, actionMask)"
   ]
  }
 ],
 "metadata": {
  "kernelspec": {
   "display_name": "venv",
   "language": "python",
   "name": "python3"
  },
  "language_info": {
   "codemirror_mode": {
    "name": "ipython",
    "version": 3
   },
   "file_extension": ".py",
   "mimetype": "text/x-python",
   "name": "python",
   "nbconvert_exporter": "python",
   "pygments_lexer": "ipython3",
   "version": "3.12.3"
  }
 },
 "nbformat": 4,
 "nbformat_minor": 5
}
