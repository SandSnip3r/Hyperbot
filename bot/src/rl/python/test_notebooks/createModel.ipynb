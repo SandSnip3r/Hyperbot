{
 "cells": [
  {
   "cell_type": "code",
   "execution_count": 2,
   "metadata": {},
   "outputs": [],
   "source": [
    "from flax import nnx\n",
    "import jax\n",
    "import jax.numpy as jnp"
   ]
  },
  {
   "cell_type": "code",
   "execution_count": 3,
   "metadata": {},
   "outputs": [],
   "source": [
    "class MyModel(nnx.Module):\n",
    "  def __init__(self, inSize: int, outSize: int, *, rngs: nnx.Rngs):\n",
    "    intermediateSize = 64\n",
    "    key = rngs.params()\n",
    "    self.linear1 = nnx.Linear(inSize, intermediateSize, rngs=rngs)\n",
    "    self.linear2 = nnx.Linear(intermediateSize, outSize, rngs=rngs)\n",
    "\n",
    "  def __call__(self, x):\n",
    "    x = self.linear1(x)\n",
    "    x = jax.nn.relu(x)\n",
    "    x = self.linear2(x)\n",
    "    return x"
   ]
  },
  {
   "cell_type": "code",
   "execution_count": 5,
   "metadata": {},
   "outputs": [],
   "source": [
    "rngs = nnx.Rngs(jax.random.key(0))\n",
    "model = MyModel(10, 5, rngs=rngs)"
   ]
  }
 ],
 "metadata": {
  "kernelspec": {
   "display_name": "hyperbot",
   "language": "python",
   "name": "python3"
  },
  "language_info": {
   "codemirror_mode": {
    "name": "ipython",
    "version": 3
   },
   "file_extension": ".py",
   "mimetype": "text/x-python",
   "name": "python",
   "nbconvert_exporter": "python",
   "pygments_lexer": "ipython3",
   "version": "3.10.12"
  }
 },
 "nbformat": 4,
 "nbformat_minor": 2
}
